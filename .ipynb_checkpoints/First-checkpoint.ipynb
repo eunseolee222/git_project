{
 "cells": [
  {
   "cell_type": "code",
   "execution_count": 1,
   "id": "c8185387-6ae3-40e8-acda-1d0d07c6b327",
   "metadata": {},
   "outputs": [
    {
     "name": "stdout",
     "output_type": "stream",
     "text": [
      "Member1이 작업함\n"
     ]
    }
   ],
   "source": [
    "print('Member1이 작업함')"
   ]
  },
  {
   "cell_type": "code",
   "execution_count": null,
   "id": "47208f06-bef8-4744-84fa-e3e49eb31aee",
   "metadata": {},
   "outputs": [],
   "source": [
    "print('Member1이 또 작업함')"
   ]
  }
 ],
 "metadata": {
  "kernelspec": {
   "display_name": "Python 3 (ipykernel)",
   "language": "python",
   "name": "python3"
  },
  "language_info": {
   "codemirror_mode": {
    "name": "ipython",
    "version": 3
   },
   "file_extension": ".py",
   "mimetype": "text/x-python",
   "name": "python",
   "nbconvert_exporter": "python",
   "pygments_lexer": "ipython3",
   "version": "3.11.5"
  }
 },
 "nbformat": 4,
 "nbformat_minor": 5
}
