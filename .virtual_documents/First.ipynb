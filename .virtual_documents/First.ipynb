print('Member1이 작업함')


print('Member1이 또 작업함')


print('Branch에서 작업함')


print('Member2가 작업함')
